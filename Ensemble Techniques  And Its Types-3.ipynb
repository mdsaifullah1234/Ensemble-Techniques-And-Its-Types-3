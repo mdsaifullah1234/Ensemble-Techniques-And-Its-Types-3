{
 "cells": [
  {
   "cell_type": "markdown",
   "metadata": {},
   "source": [
    "Q1. What is Random Forest Regressor?"
   ]
  },
  {
   "cell_type": "markdown",
   "metadata": {},
   "source": [
    "ANS = Random Forest Regressor is an ensemble learning method based on decision trees, used for regression tasks."
   ]
  },
  {
   "cell_type": "markdown",
   "metadata": {},
   "source": [
    "Q2. How does Random Forest Regressor reduce the risk of overfitting?"
   ]
  },
  {
   "cell_type": "markdown",
   "metadata": {},
   "source": [
    "ANS =  Random Forest Regressor reduces the risk of overfitting by training multiple decision trees on different subsets of the training data and averaging their predictions. This helps to create a more generalized model"
   ]
  },
  {
   "cell_type": "markdown",
   "metadata": {},
   "source": [
    "Q3. How does Random Forest Regressor aggregate the predictions of multiple decision trees?"
   ]
  },
  {
   "cell_type": "markdown",
   "metadata": {},
   "source": [
    "ANS = . Random Forest Regressor aggregates the predictions of multiple decision trees by averaging (for regression) the predictions made by individual trees."
   ]
  },
  {
   "cell_type": "markdown",
   "metadata": {},
   "source": [
    "Q4. What are the hyperparameters of Random Forest Regressor?"
   ]
  },
  {
   "cell_type": "markdown",
   "metadata": {},
   "source": [
    "ANS = Hyperparameters of Random Forest Regressor include the number of trees in the forest, the maximum depth of the trees, the minimum number of samples required to split a node, and the minimum number of samples required at each leaf node, among others."
   ]
  },
  {
   "cell_type": "markdown",
   "metadata": {},
   "source": [
    "Q5. What is the difference between Random Forest Regressor and Decision Tree Regressor?"
   ]
  },
  {
   "cell_type": "markdown",
   "metadata": {},
   "source": [
    "ANS = The main difference between Random Forest Regressor and Decision Tree Regressor is that Random Forest Regressor trains multiple decision trees and averages their predictions to reduce overfitting, while Decision Tree Regressor trains a single decision tree without any ensemble methods"
   ]
  },
  {
   "cell_type": "markdown",
   "metadata": {},
   "source": [
    "Q6. What are the advantages and disadvantages of Random Forest Regressor?"
   ]
  },
  {
   "cell_type": "markdown",
   "metadata": {},
   "source": [
    "ANS = Advantages of Random Forest Regressor include reduced overfitting, robustness to noise, and handling of large datasets. Disadvantages may include increased computational complexity and difficulty in interpreting the model."
   ]
  },
  {
   "cell_type": "markdown",
   "metadata": {},
   "source": [
    "Q7. What is the output of Random Forest Regressor?"
   ]
  },
  {
   "cell_type": "markdown",
   "metadata": {},
   "source": [
    "ANS = The output of Random Forest Regressor is a predicted continuous value for regression tasks"
   ]
  },
  {
   "cell_type": "markdown",
   "metadata": {},
   "source": [
    "Q8. Can Random Forest Regressor be used for classification tasks?"
   ]
  },
  {
   "cell_type": "markdown",
   "metadata": {},
   "source": [
    "ANS = While Random Forest Regressor is primarily used for regression tasks, it can also be adapted for classification tasks by aggregating the predictions of multiple decision trees and using a majority voting scheme to determine the final class label."
   ]
  }
 ],
 "metadata": {
  "language_info": {
   "name": "python"
  }
 },
 "nbformat": 4,
 "nbformat_minor": 2
}
